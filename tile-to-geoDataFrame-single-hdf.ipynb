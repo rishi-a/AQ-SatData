{
 "cells": [
  {
   "cell_type": "markdown",
   "metadata": {},
   "source": [
    "##### This Notebook will take a single HDF file and plot region of interest (eg. Lucknow) via GeoDataFrame\n",
    "##### Advantage over BaseMap: \n",
    "- You will have all lat/long values of the ROI with corresponding AOD values\n",
    "- The same GeoDataFrame can be used to append more information like windspeed etc\n",
    "\n",
    "##### Files Required\n",
    "- A HDF file corresponsing to 1 day of any region. eg. In the code below, the region is represented by h25v06\n",
    "- A Lat/Long file corresponding to region eg. h25v06 is used below\n",
    "- Shape file corresponding to a region in the tile. Note that here the shapefile is composed of multiple point geometries representing lat/long of lucknow region. These latlong are as they appear in the tile. The shapefile can be made in QGIS by clipping the Tile with the shapefile (polygon) of lucknow\n"
   ]
  },
  {
   "cell_type": "code",
   "execution_count": 1,
   "metadata": {},
   "outputs": [],
   "source": [
    "#initializations (some may not be necessary)\n",
    "from pyhdf import SD\n",
    "import numpy as np\n",
    "from collections import OrderedDict\n",
    "import numpy.ma as ma\n",
    "import pyproj\n",
    "from mpl_toolkits.basemap import Basemap, cm\n",
    "import matplotlib.pyplot as plt\n",
    "import sys\n",
    "import pandas as pd\n",
    "import geopandas as gpd\n",
    "from shapely.geometry import Point, Polygon\n",
    "import requests\n",
    "import os"
   ]
  },
  {
   "cell_type": "code",
   "execution_count": 2,
   "metadata": {},
   "outputs": [
    {
     "name": "stdout",
     "output_type": "stream",
     "text": [
      "1. Optical_Depth_047\n",
      "2. Optical_Depth_055\n",
      "3. AOD_Uncertainty\n",
      "4. FineModeFraction\n",
      "5. Column_WV\n",
      "6. AOD_QA\n",
      "7. AOD_MODEL\n",
      "8. Injection_Height\n",
      "9. cosSZA\n",
      "10. cosVZA\n",
      "11. RelAZ\n",
      "12. Scattering_Angle\n",
      "13. Glint_Angle\n",
      "1. lat\n",
      "2. lon\n",
      "\n",
      "The valid range of values is:  -0.1  to  5.0 \n",
      "The average is:  1.425 \n",
      "The standard deviation is:  1.217\n",
      "The range of latitude in this file is:  20.004168  to  29.995832 degrees \n",
      "The range of longitude in this file is:  74.49885  to  92.367355  degrees\n"
     ]
    }
   ],
   "source": [
    "%matplotlib inline\n",
    "#loops through all files listed in the text file\n",
    "FILENAME = \"MCD19A2.A2019304.h25v06.006.2019306052717.hdf\"\n",
    "\n",
    "#user_input=input('\\nWould you like to process\\n' + FILE_NAME + '\\n\\n(Y/N)')\n",
    "#if(user_input == 'N' or user_input == 'n'):\n",
    "#    continue\n",
    "#else:\n",
    "\n",
    "# A HDF file covering the tile corresponnding to northern India\n",
    "#FILE_NAME = 'MCD19A2.A2019334.h24v06.006.2019336233110.hdf'\n",
    "#Open the file\n",
    "hdf=SD.SD(\"data15Oct-15Nov-2019/\"+FILENAME)\n",
    "#Read the subdatasets\n",
    "#extract the list of SDS in the hdf4 file\n",
    "datasets=hdf.datasets()\n",
    "#Print the list\n",
    "for i,v in enumerate(datasets):\n",
    "    print('{0}. {1}'.format(i+1,v))\n",
    "\n",
    "# The Corresponding Lat/Long of the file\n",
    "FILE_NAME2 = 'MAIACLatlon.h25v06.hdf'\n",
    "#Open the file\n",
    "hdf2=SD.SD(FILE_NAME2)\n",
    "#Read the subdatasets\n",
    "#extract the list of SDS in the hdf4 file\n",
    "datasets2=hdf2.datasets()\n",
    "#Print the list\n",
    "for i,v in enumerate(datasets2):\n",
    "    print('{0}. {1}'.format(i+1,v))\n",
    "#Variables for lat/long necessary to plot the AOD\n",
    "#Source: https://portal.nccs.nasa.gov/datashare/maiac/DataRelease/MODISTile_lat-lon/\n",
    "# Get lat and lon info\n",
    "lat = hdf2.select('lat')\n",
    "latitude = lat[:,:]\n",
    "min_lat=latitude.min()\n",
    "max_lat=latitude.max()\n",
    "lon = hdf2.select('lon')\n",
    "longitude = lon[:,:]\n",
    "min_lon=longitude.min()\n",
    "max_lon=longitude.max()\n",
    "\n",
    "#get SDS, (choose from the list of SDS)\n",
    "SDS_NAME = 'Optical_Depth_047'\n",
    "sds=hdf.select(SDS_NAME)\n",
    "attributes=sds.attributes()\n",
    "scale_factor=attributes['scale_factor']\n",
    "\n",
    "#get valid range for AOD SDS\n",
    "range=sds.getrange()\n",
    "min_range=min(range)\n",
    "max_range=max(range)\n",
    "#get SDS data\n",
    "data=sds.get()\n",
    "#get data within valid range\n",
    "valid_data=data.ravel()\n",
    "valid_data=[x for x in valid_data if x>=min_range]\n",
    "valid_data=[x for x in valid_data if x<=max_range]\n",
    "valid_data=np.asarray(valid_data)\n",
    "#scale the valid data\n",
    "valid_data=valid_data*scale_factor\n",
    "#find the average\n",
    "average=sum(valid_data)/len(valid_data)\n",
    "#find the standard deviation\n",
    "stdev=np.std(valid_data)\n",
    "#print information\n",
    "print('\\nThe valid range of values is: ',round(min_range*scale_factor,3), ' to ',round(max_range*scale_factor,3),'\\nThe average is: ',round(average,3),'\\nThe standard deviation is: ',round(stdev,3))\n",
    "print('The range of latitude in this file is: ',min_lat,' to ',max_lat, 'degrees \\nThe range of longitude in this file is: ',min_lon, ' to ',max_lon,' degrees')\n",
    "\n",
    "#Filter the AOD values\n",
    "attrs = sds.attributes(full=1)\n",
    "fillvalue=attrs['_FillValue']\n",
    "# fillvalue[0] is the attribute value (-9999)\n",
    "fv = fillvalue[0]\n",
    "#turn fillvalues to NaN\n",
    "data=data.astype(float)\n",
    "data[data == fv] = np.nan\n",
    "\n",
    "\n",
    "\n"
   ]
  },
  {
   "cell_type": "code",
   "execution_count": 3,
   "metadata": {},
   "outputs": [],
   "source": [
    "#create a dataframe consisting of latitude, longitude and AOD\n",
    "\n",
    "long = []\n",
    "lat = []\n",
    "aod = []\n",
    "for row in np.arange(len(longitude)):\n",
    "    for col in np.arange(len(longitude)):\n",
    "        long.append(longitude[row][col])\n",
    "        lat.append(latitude[row][col])\n",
    "        aod.append((data[2][row][col])*scale_factor)\n",
    "\n",
    "        \n",
    "tileDF = pd.DataFrame({'latitude': lat, 'longitude': long, 'aod': aod})\n"
   ]
  },
  {
   "cell_type": "code",
   "execution_count": null,
   "metadata": {},
   "outputs": [],
   "source": [
    "#you can choose to have a column of Point geometry or just avoid it\n",
    "#geometry = [Point(xy) for xy in zip(tileDF['latitude'], tileDF['longitude'])]\n",
    "#df['geometry'] = geometry"
   ]
  },
  {
   "cell_type": "code",
   "execution_count": 4,
   "metadata": {},
   "outputs": [],
   "source": [
    "#dave the DataFrame as a csv for future use\n",
    "tileDF.to_csv('NorthEast-tile.csv')"
   ]
  },
  {
   "cell_type": "code",
   "execution_count": 5,
   "metadata": {},
   "outputs": [
    {
     "data": {
      "text/plain": [
       "<matplotlib.axes._subplots.AxesSubplot at 0x18f517a0a58>"
      ]
     },
     "execution_count": 5,
     "metadata": {},
     "output_type": "execute_result"
    },
    {
     "data": {
      "image/png": "[encoded data removed]",
      "text/plain": [
       "<Figure size 432x288 with 1 Axes>"
      ]
     },
     "metadata": {},
     "output_type": "display_data"
    }
   ],
   "source": [
    "#load the clipped shapefile of Lucknow which consists of lat-long-aod values\n",
    "#clipping = intersection of lucknowshapefile and NorthEasT Tile Latlong = LucknowShape with LatLong. Made using QGIS (Should be possible programtically)\n",
    "\n",
    "\n",
    "fp = r\"Lucknow-withLatLong\\Lucknow-withLatLong.shp\"\n",
    "# Read file using gpd.read_file()\n",
    "lucknowShape = gpd.read_file(fp)\n",
    "lucknowShape.plot()"
   ]
  },
  {
   "cell_type": "code",
   "execution_count": 6,
   "metadata": {},
   "outputs": [],
   "source": [
    "#Filter the AOD values such that AOD values of type '--' are removed\n",
    "lucknowShape = lucknowShape[lucknowShape.aod != '--']\n",
    "#convert AOD string to AOD float\n",
    "lucknowShape['aod'] = lucknowShape['aod'].astype(float)"
   ]
  },
  {
   "cell_type": "code",
   "execution_count": 7,
   "metadata": {},
   "outputs": [
    {
     "data": {
      "image/png": "[encoded data removed]",
      "text/plain": [
       "<Figure size 432x288 with 2 Axes>"
      ]
     },
     "metadata": {},
     "output_type": "display_data"
    }
   ],
   "source": [
    "#this creates a custom colormap. Custom color map is good to have, choice of colors and division is yours\n",
    "#Obviosuly, the choice of scheme is yours. \n",
    "import matplotlib.colors as cl\n",
    "my_cmap = cl.ListedColormap(['#00cc00', '#66cc00', '#ffff00', '#ff9900', '#ff0000', '#a52a2a', '#6e2a2a', '#a52a2a'])\n",
    "#boundaries = [1,2,3,4,2.50,3,3.50,4] #Upper ceiling\n",
    "boundaries = np.linspace(1,4,10)\n",
    "norm = cl.BoundaryNorm(boundaries, my_cmap.N, clip=True)\n",
    "ax=lucknowShape.plot(column=\"aod\",cmap=my_cmap, norm=norm, linewidth=1, legend=True);"
   ]
  },
  {
   "cell_type": "code",
   "execution_count": 8,
   "metadata": {},
   "outputs": [
    {
     "data": {
      "text/html": [
       "<div>\n",
       "<style scoped>\n",
       "    .dataframe tbody tr th:only-of-type {\n",
       "        vertical-align: middle;\n",
       "    }\n",
       "\n",
       "    .dataframe tbody tr th {\n",
       "        vertical-align: top;\n",
       "    }\n",
       "\n",
       "    .dataframe thead th {\n",
       "        text-align: right;\n",
       "    }\n",
       "</style>\n",
       "<table border=\"1\" class=\"dataframe\">\n",
       "  <thead>\n",
       "    <tr style=\"text-align: right;\">\n",
       "      <th></th>\n",
       "      <th>field_1</th>\n",
       "      <th>latitude</th>\n",
       "      <th>longitude</th>\n",
       "      <th>aod</th>\n",
       "      <th>geometry</th>\n",
       "    </tr>\n",
       "  </thead>\n",
       "  <tbody>\n",
       "    <tr>\n",
       "      <td>0</td>\n",
       "      <td>408239</td>\n",
       "      <td>27.162500</td>\n",
       "      <td>80.920074</td>\n",
       "      <td>3.488</td>\n",
       "      <td>(POINT (80.92007446289063 27.16250038146973))</td>\n",
       "    </tr>\n",
       "    <tr>\n",
       "      <td>1</td>\n",
       "      <td>409437</td>\n",
       "      <td>27.154167</td>\n",
       "      <td>80.895309</td>\n",
       "      <td>3.342</td>\n",
       "      <td>(POINT (80.89530944824219 27.15416717529297))</td>\n",
       "    </tr>\n",
       "    <tr>\n",
       "      <td>2</td>\n",
       "      <td>409438</td>\n",
       "      <td>27.154167</td>\n",
       "      <td>80.904671</td>\n",
       "      <td>3.332</td>\n",
       "      <td>(POINT (80.90467071533203 27.15416717529297))</td>\n",
       "    </tr>\n",
       "    <tr>\n",
       "      <td>3</td>\n",
       "      <td>409439</td>\n",
       "      <td>27.154167</td>\n",
       "      <td>80.914040</td>\n",
       "      <td>3.136</td>\n",
       "      <td>(POINT (80.91403961181641 27.15416717529297))</td>\n",
       "    </tr>\n",
       "    <tr>\n",
       "      <td>4</td>\n",
       "      <td>409440</td>\n",
       "      <td>27.154167</td>\n",
       "      <td>80.923401</td>\n",
       "      <td>3.130</td>\n",
       "      <td>(POINT (80.92340087890625 27.15416717529297))</td>\n",
       "    </tr>\n",
       "  </tbody>\n",
       "</table>\n",
       "</div>"
      ],
      "text/plain": [
       "   field_1   latitude  longitude    aod  \\\n",
       "0   408239  27.162500  80.920074  3.488   \n",
       "1   409437  27.154167  80.895309  3.342   \n",
       "2   409438  27.154167  80.904671  3.332   \n",
       "3   409439  27.154167  80.914040  3.136   \n",
       "4   409440  27.154167  80.923401  3.130   \n",
       "\n",
       "                                        geometry  \n",
       "0  (POINT (80.92007446289063 27.16250038146973))  \n",
       "1  (POINT (80.89530944824219 27.15416717529297))  \n",
       "2  (POINT (80.90467071533203 27.15416717529297))  \n",
       "3  (POINT (80.91403961181641 27.15416717529297))  \n",
       "4  (POINT (80.92340087890625 27.15416717529297))  "
      ]
     },
     "execution_count": 8,
     "metadata": {},
     "output_type": "execute_result"
    }
   ],
   "source": [
    "# this dataframe can be used to append more information on Lucknow, like windspeed, temperature etc\n",
    "lucknowShape.head()"
   ]
  }
 ],
 "metadata": {
  "kernelspec": {
   "display_name": "Python 3",
   "language": "python",
   "name": "python3"
  },
  "language_info": {
   "codemirror_mode": {
    "name": "ipython",
    "version": 3
   },
   "file_extension": ".py",
   "mimetype": "text/x-python",
   "name": "python",
   "nbconvert_exporter": "python",
   "pygments_lexer": "ipython3",
   "version": "3.6.5"
  }
 },
 "nbformat": 4,
 "nbformat_minor": 2
}
