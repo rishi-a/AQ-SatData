{
 "cells": [
  {
   "cell_type": "markdown",
   "metadata": {},
   "source": [
    "#### This code downloads the HDF file from https://ladsweb.modaps.eosdis.nasa.gov/search/order/"
   ]
  },
  {
   "cell_type": "code",
   "execution_count": null,
   "metadata": {},
   "outputs": [],
   "source": [
    "#Get your CSV file containing the list of hdf files from https://ladsweb.modaps.eosdis.nasa.gov/search/order\n",
    "CSV_FILE = \"D:\\\\data2019-NETile\\\\fileList.csv\"\n",
    "\n",
    "#Get your token from https://ladsweb.modaps.eosdis.nasa.gov/profile/#app-keys\n",
    "#Use it in the Auhorization attribite below\n",
    "\n",
    "#Give your destination folder\n",
    "DEST = \"D:\\\\data2019-NETile\\\\\" \n",
    "\n",
    "#change the name of the header of the second column (o 'url') in the csv file that you downloaded\n",
    "listofFiles=pd.read_csv(CSV_FILE)['url']\n",
    "for f in listofFiles:\n",
    "    # -45 till end selects the filename only\n",
    "    filename=f[-45:]\n",
    "    headers = {\n",
    "    'Authorization': 'Bearer XXX-XXX-XXX-XXX', #your token here\n",
    "    }\n",
    "    response = requests.get('https://ladsweb.modaps.eosdis.nasa.gov'+f, headers = headers)\n",
    "\n",
    "    with open(DEST+filename, 'wb') as outfile: \n",
    "        outfile.write(response.content)\n",
    "        print(filename+\" saved\")"
   ]
  }
 ],
 "metadata": {
  "kernelspec": {
   "display_name": "Python 3",
   "language": "python",
   "name": "python3"
  },
  "language_info": {
   "codemirror_mode": {
    "name": "ipython",
    "version": 3
   },
   "file_extension": ".py",
   "mimetype": "text/x-python",
   "name": "python",
   "nbconvert_exporter": "python",
   "pygments_lexer": "ipython3",
   "version": "3.6.5"
  }
 },
 "nbformat": 4,
 "nbformat_minor": 2
}
