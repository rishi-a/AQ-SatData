{
 "cells": [
  {
   "cell_type": "markdown",
   "metadata": {},
   "source": [
    "##### The code here is taken from Copernicus Climate Change website to get netCDF datafile to retrieve Climate data from *Copernicus Climate Change Server*\n",
    "\n",
    "##### Requirement (Windows with Anaconda VIrtual Environment)  \n",
    "- Create an account here: https://cds.climate.copernicus.eu\n",
    "- Install cdsapi via conda forge\n",
    "- Install netCDF4 via conda forge \n",
    "- Go to the directory: C://Users//Username and create a file name .cdsapirc\n",
    "- Copy the URL and Key form here and paste to the file created above: https://cds.climate.copernicus.eu/api-how-to\n",
    "- Choose the data you need from here: https://cds.climate.copernicus.eu/cdsapp#!/dataset/reanalysis-era5-single-levels-monthly-means?tab=form"
   ]
  },
  {
   "cell_type": "code",
   "execution_count": 1,
   "metadata": {},
   "outputs": [
    {
     "name": "stderr",
     "output_type": "stream",
     "text": [
      "2019-12-27 18:38:13,428 INFO Sending request to https://cds.climate.copernicus.eu/api/v2/resources/reanalysis-era5-single-levels-monthly-means\n",
      "2019-12-27 18:38:15,435 INFO Request is queued\n",
      "2019-12-27 18:38:16,689 INFO Request is running\n",
      "2019-12-27 18:39:32,913 INFO Request is completed\n",
      "2019-12-27 18:39:32,914 INFO Downloading http://136.156.133.42/cache-compute-0014/cache/data1/adaptor.mars.internal-1577452145.2320635-3171-33-a9e4b88d-a41a-4b9f-891c-b2ce265f2ee1.nc to temperature.nc (910.9M)\n",
      "2019-12-27 18:43:21,855 INFO Download rate 4M/s                                                                        \n"
     ]
    },
    {
     "data": {
      "text/plain": [
       "Result(content_length=955191712,content_type=application/x-netcdf,location=http://136.156.133.42/cache-compute-0014/cache/data1/adaptor.mars.internal-1577452145.2320635-3171-33-a9e4b88d-a41a-4b9f-891c-b2ce265f2ee1.nc)"
      ]
     },
     "execution_count": 1,
     "metadata": {},
     "output_type": "execute_result"
    }
   ],
   "source": [
    "import cdsapi\n",
    "\n",
    "c = cdsapi.Client()\n",
    "\n",
    "c.retrieve(\n",
    "    'reanalysis-era5-single-levels-monthly-means',\n",
    "    {\n",
    "        'format': 'netcdf',\n",
    "        'product_type': 'monthly_averaged_reanalysis_by_hour_of_day',\n",
    "        'variable': [\n",
    "            '2m_dewpoint_temperature', '2m_temperature',\n",
    "        ],\n",
    "        'year': [\n",
    "            '2018', '2019',\n",
    "        ],\n",
    "        'month': [\n",
    "            '01', '02', '03',\n",
    "            '04', '05', '06',\n",
    "            '07', '08', '09',\n",
    "            '10', '11', '12',\n",
    "        ],\n",
    "        'time': [\n",
    "            '05:00', '08:00', '12:00',\n",
    "            '13:00', '19:00',\n",
    "        ],\n",
    "    },\n",
    "    'temperature.nc')"
   ]
  },
  {
   "cell_type": "code",
   "execution_count": 2,
   "metadata": {},
   "outputs": [],
   "source": [
    "import xarray as xr\n",
    "\n",
    "ds = xr.open_dataset('temperature.nc')\n",
    "df = ds.to_dataframe()"
   ]
  },
  {
   "cell_type": "code",
   "execution_count": 41,
   "metadata": {},
   "outputs": [
    {
     "data": {
      "text/plain": [
       "721"
      ]
     },
     "execution_count": 41,
     "metadata": {},
     "output_type": "execute_result"
    }
   ],
   "source": [
    "len(ds['latitude'])"
   ]
  },
  {
   "cell_type": "code",
   "execution_count": 12,
   "metadata": {},
   "outputs": [],
   "source": [
    "x = df.to_csv('tem-csv.csv')"
   ]
  },
  {
   "cell_type": "code",
   "execution_count": 27,
   "metadata": {},
   "outputs": [],
   "source": [
    "#learn about the dataset here\n",
    "#https://confluence.ecmwf.int/display/CKB/ERA5-Land+data+documentation#ERA5-Landdatadocumentation-Dataformat"
   ]
  },
  {
   "cell_type": "markdown",
   "metadata": {},
   "source": [
    "## Extracting temperature for gujarat region"
   ]
  },
  {
   "cell_type": "code",
   "execution_count": 2,
   "metadata": {},
   "outputs": [],
   "source": [
    "import pandas as pd"
   ]
  },
  {
   "cell_type": "code",
   "execution_count": 59,
   "metadata": {},
   "outputs": [],
   "source": [
    "#Holy-Moly!! RAM is too low to read a 6GB csv file directly, so reading in chunk\n",
    "df_chunk = pd.read_csv('tem-csv.csv', chunksize=100000)"
   ]
  },
  {
   "cell_type": "code",
   "execution_count": 60,
   "metadata": {},
   "outputs": [],
   "source": [
    "#drop useless data. We are interested in 'some' coordinates only\n",
    "chunk_list = []\n",
    "for chunk in df_chunk:\n",
    "    x = chunk[chunk['latitude']<24]\n",
    "    x = x[x['longitude']<73]\n",
    "    chunk_list.append(x)\n",
    "    \n",
    "df_concat = pd.concat(chunk_list)"
   ]
  },
  {
   "cell_type": "code",
   "execution_count": 62,
   "metadata": {},
   "outputs": [],
   "source": [
    "df_concat.to_csv('temperature-filtered.csv')"
   ]
  },
  {
   "cell_type": "code",
   "execution_count": 3,
   "metadata": {},
   "outputs": [],
   "source": [
    "temp = pd.read_csv('temperature-filtered.csv')"
   ]
  },
  {
   "cell_type": "code",
   "execution_count": 9,
   "metadata": {},
   "outputs": [
    {
     "data": {
      "text/html": [
       "<div>\n",
       "<style scoped>\n",
       "    .dataframe tbody tr th:only-of-type {\n",
       "        vertical-align: middle;\n",
       "    }\n",
       "\n",
       "    .dataframe tbody tr th {\n",
       "        vertical-align: top;\n",
       "    }\n",
       "\n",
       "    .dataframe thead th {\n",
       "        text-align: right;\n",
       "    }\n",
       "</style>\n",
       "<table border=\"1\" class=\"dataframe\">\n",
       "  <thead>\n",
       "    <tr style=\"text-align: right;\">\n",
       "      <th></th>\n",
       "      <th>Unnamed: 0</th>\n",
       "      <th>latitude</th>\n",
       "      <th>longitude</th>\n",
       "      <th>time</th>\n",
       "      <th>d2m_0001</th>\n",
       "      <th>t2m_0001</th>\n",
       "      <th>d2m_0005</th>\n",
       "      <th>t2m_0005</th>\n",
       "    </tr>\n",
       "  </thead>\n",
       "  <tbody>\n",
       "    <tr>\n",
       "      <td>0</td>\n",
       "      <td>43884000</td>\n",
       "      <td>23.75</td>\n",
       "      <td>0.00</td>\n",
       "      <td>2018-01-01 05:00:00</td>\n",
       "      <td>269.56660</td>\n",
       "      <td>283.93658</td>\n",
       "      <td>NaN</td>\n",
       "      <td>NaN</td>\n",
       "    </tr>\n",
       "    <tr>\n",
       "      <td>1</td>\n",
       "      <td>43884001</td>\n",
       "      <td>23.75</td>\n",
       "      <td>0.00</td>\n",
       "      <td>2018-01-01 08:00:00</td>\n",
       "      <td>270.60030</td>\n",
       "      <td>285.45166</td>\n",
       "      <td>NaN</td>\n",
       "      <td>NaN</td>\n",
       "    </tr>\n",
       "    <tr>\n",
       "      <td>2</td>\n",
       "      <td>43884002</td>\n",
       "      <td>23.75</td>\n",
       "      <td>0.00</td>\n",
       "      <td>2018-01-01 12:00:00</td>\n",
       "      <td>270.05487</td>\n",
       "      <td>295.57895</td>\n",
       "      <td>NaN</td>\n",
       "      <td>NaN</td>\n",
       "    </tr>\n",
       "    <tr>\n",
       "      <td>3</td>\n",
       "      <td>43884003</td>\n",
       "      <td>23.75</td>\n",
       "      <td>0.00</td>\n",
       "      <td>2018-01-01 13:00:00</td>\n",
       "      <td>269.61295</td>\n",
       "      <td>296.64612</td>\n",
       "      <td>NaN</td>\n",
       "      <td>NaN</td>\n",
       "    </tr>\n",
       "    <tr>\n",
       "      <td>4</td>\n",
       "      <td>43884004</td>\n",
       "      <td>23.75</td>\n",
       "      <td>0.00</td>\n",
       "      <td>2018-01-01 19:00:00</td>\n",
       "      <td>269.44608</td>\n",
       "      <td>293.79440</td>\n",
       "      <td>NaN</td>\n",
       "      <td>NaN</td>\n",
       "    </tr>\n",
       "    <tr>\n",
       "      <td>...</td>\n",
       "      <td>...</td>\n",
       "      <td>...</td>\n",
       "      <td>...</td>\n",
       "      <td>...</td>\n",
       "      <td>...</td>\n",
       "      <td>...</td>\n",
       "      <td>...</td>\n",
       "      <td>...</td>\n",
       "    </tr>\n",
       "    <tr>\n",
       "      <td>15312475</td>\n",
       "      <td>119265575</td>\n",
       "      <td>-90.00</td>\n",
       "      <td>72.75</td>\n",
       "      <td>2019-11-01 05:00:00</td>\n",
       "      <td>NaN</td>\n",
       "      <td>NaN</td>\n",
       "      <td>234.21346</td>\n",
       "      <td>238.25389</td>\n",
       "    </tr>\n",
       "    <tr>\n",
       "      <td>15312476</td>\n",
       "      <td>119265576</td>\n",
       "      <td>-90.00</td>\n",
       "      <td>72.75</td>\n",
       "      <td>2019-11-01 08:00:00</td>\n",
       "      <td>NaN</td>\n",
       "      <td>NaN</td>\n",
       "      <td>234.10092</td>\n",
       "      <td>238.22862</td>\n",
       "    </tr>\n",
       "    <tr>\n",
       "      <td>15312477</td>\n",
       "      <td>119265577</td>\n",
       "      <td>-90.00</td>\n",
       "      <td>72.75</td>\n",
       "      <td>2019-11-01 12:00:00</td>\n",
       "      <td>NaN</td>\n",
       "      <td>NaN</td>\n",
       "      <td>234.47913</td>\n",
       "      <td>238.62624</td>\n",
       "    </tr>\n",
       "    <tr>\n",
       "      <td>15312478</td>\n",
       "      <td>119265578</td>\n",
       "      <td>-90.00</td>\n",
       "      <td>72.75</td>\n",
       "      <td>2019-11-01 13:00:00</td>\n",
       "      <td>NaN</td>\n",
       "      <td>NaN</td>\n",
       "      <td>234.48608</td>\n",
       "      <td>238.63954</td>\n",
       "    </tr>\n",
       "    <tr>\n",
       "      <td>15312479</td>\n",
       "      <td>119265579</td>\n",
       "      <td>-90.00</td>\n",
       "      <td>72.75</td>\n",
       "      <td>2019-11-01 19:00:00</td>\n",
       "      <td>NaN</td>\n",
       "      <td>NaN</td>\n",
       "      <td>234.54526</td>\n",
       "      <td>238.72864</td>\n",
       "    </tr>\n",
       "  </tbody>\n",
       "</table>\n",
       "<p>15312480 rows × 8 columns</p>\n",
       "</div>"
      ],
      "text/plain": [
       "          Unnamed: 0  latitude  longitude                 time   d2m_0001  \\\n",
       "0           43884000     23.75       0.00  2018-01-01 05:00:00  269.56660   \n",
       "1           43884001     23.75       0.00  2018-01-01 08:00:00  270.60030   \n",
       "2           43884002     23.75       0.00  2018-01-01 12:00:00  270.05487   \n",
       "3           43884003     23.75       0.00  2018-01-01 13:00:00  269.61295   \n",
       "4           43884004     23.75       0.00  2018-01-01 19:00:00  269.44608   \n",
       "...              ...       ...        ...                  ...        ...   \n",
       "15312475   119265575    -90.00      72.75  2019-11-01 05:00:00        NaN   \n",
       "15312476   119265576    -90.00      72.75  2019-11-01 08:00:00        NaN   \n",
       "15312477   119265577    -90.00      72.75  2019-11-01 12:00:00        NaN   \n",
       "15312478   119265578    -90.00      72.75  2019-11-01 13:00:00        NaN   \n",
       "15312479   119265579    -90.00      72.75  2019-11-01 19:00:00        NaN   \n",
       "\n",
       "           t2m_0001   d2m_0005   t2m_0005  \n",
       "0         283.93658        NaN        NaN  \n",
       "1         285.45166        NaN        NaN  \n",
       "2         295.57895        NaN        NaN  \n",
       "3         296.64612        NaN        NaN  \n",
       "4         293.79440        NaN        NaN  \n",
       "...             ...        ...        ...  \n",
       "15312475        NaN  234.21346  238.25389  \n",
       "15312476        NaN  234.10092  238.22862  \n",
       "15312477        NaN  234.47913  238.62624  \n",
       "15312478        NaN  234.48608  238.63954  \n",
       "15312479        NaN  234.54526  238.72864  \n",
       "\n",
       "[15312480 rows x 8 columns]"
      ]
     },
     "execution_count": 9,
     "metadata": {},
     "output_type": "execute_result"
    }
   ],
   "source": [
    "temp"
   ]
  },
  {
   "cell_type": "code",
   "execution_count": 10,
   "metadata": {},
   "outputs": [],
   "source": [
    "tempx = temp[ (temp['latitude']>23) & (temp['latitude']<24) ]"
   ]
  },
  {
   "cell_type": "code",
   "execution_count": 12,
   "metadata": {},
   "outputs": [],
   "source": [
    "tempx = temp[ (temp['longitude']>72) & (temp['longitude']<73)]"
   ]
  },
  {
   "cell_type": "code",
   "execution_count": 15,
   "metadata": {},
   "outputs": [],
   "source": [
    "tempx.index = pd.to_datetime(tempx.time)"
   ]
  },
  {
   "cell_type": "code",
   "execution_count": 17,
   "metadata": {},
   "outputs": [],
   "source": [
    "tempxr = tempx['2019-09-01':'2019-11-30']"
   ]
  },
  {
   "cell_type": "code",
   "execution_count": 22,
   "metadata": {},
   "outputs": [
    {
     "name": "stderr",
     "output_type": "stream",
     "text": [
      "C:\\ProgramData\\Anaconda3\\lib\\site-packages\\ipykernel_launcher.py:1: SettingWithCopyWarning: \n",
      "A value is trying to be set on a copy of a slice from a DataFrame.\n",
      "Try using .loc[row_indexer,col_indexer] = value instead\n",
      "\n",
      "See the caveats in the documentation: http://pandas.pydata.org/pandas-docs/stable/user_guide/indexing.html#returning-a-view-versus-a-copy\n",
      "  \"\"\"Entry point for launching an IPython kernel.\n"
     ]
    }
   ],
   "source": [
    "tempxr['t2m_0001'] = tempxr['t2m_0001']-273.15"
   ]
  },
  {
   "cell_type": "code",
   "execution_count": 24,
   "metadata": {},
   "outputs": [
    {
     "name": "stderr",
     "output_type": "stream",
     "text": [
      "C:\\ProgramData\\Anaconda3\\lib\\site-packages\\ipykernel_launcher.py:1: SettingWithCopyWarning: \n",
      "A value is trying to be set on a copy of a slice from a DataFrame.\n",
      "Try using .loc[row_indexer,col_indexer] = value instead\n",
      "\n",
      "See the caveats in the documentation: http://pandas.pydata.org/pandas-docs/stable/user_guide/indexing.html#returning-a-view-versus-a-copy\n",
      "  \"\"\"Entry point for launching an IPython kernel.\n"
     ]
    }
   ],
   "source": [
    "tempxr['d2m_0001'] = tempxr['d2m_0001']-273.15"
   ]
  },
  {
   "cell_type": "code",
   "execution_count": 26,
   "metadata": {},
   "outputs": [],
   "source": [
    "tempxr.to_csv('gujarat-temp-2019.csv')"
   ]
  },
  {
   "cell_type": "code",
   "execution_count": 27,
   "metadata": {},
   "outputs": [
    {
     "data": {
      "text/html": [
       "<div>\n",
       "<style scoped>\n",
       "    .dataframe tbody tr th:only-of-type {\n",
       "        vertical-align: middle;\n",
       "    }\n",
       "\n",
       "    .dataframe tbody tr th {\n",
       "        vertical-align: top;\n",
       "    }\n",
       "\n",
       "    .dataframe thead th {\n",
       "        text-align: right;\n",
       "    }\n",
       "</style>\n",
       "<table border=\"1\" class=\"dataframe\">\n",
       "  <thead>\n",
       "    <tr style=\"text-align: right;\">\n",
       "      <th></th>\n",
       "      <th>Unnamed: 0</th>\n",
       "      <th>latitude</th>\n",
       "      <th>longitude</th>\n",
       "      <th>time</th>\n",
       "      <th>d2m_0001</th>\n",
       "      <th>t2m_0001</th>\n",
       "      <th>d2m_0005</th>\n",
       "      <th>t2m_0005</th>\n",
       "    </tr>\n",
       "    <tr>\n",
       "      <th>time</th>\n",
       "      <th></th>\n",
       "      <th></th>\n",
       "      <th></th>\n",
       "      <th></th>\n",
       "      <th></th>\n",
       "      <th></th>\n",
       "      <th></th>\n",
       "      <th></th>\n",
       "    </tr>\n",
       "  </thead>\n",
       "  <tbody>\n",
       "    <tr>\n",
       "      <td>2019-09-01 05:00:00</td>\n",
       "      <td>43917335</td>\n",
       "      <td>23.75</td>\n",
       "      <td>72.25</td>\n",
       "      <td>2019-09-01 05:00:00</td>\n",
       "      <td>25.71900</td>\n",
       "      <td>28.91400</td>\n",
       "      <td>NaN</td>\n",
       "      <td>NaN</td>\n",
       "    </tr>\n",
       "    <tr>\n",
       "      <td>2019-09-01 08:00:00</td>\n",
       "      <td>43917336</td>\n",
       "      <td>23.75</td>\n",
       "      <td>72.25</td>\n",
       "      <td>2019-09-01 08:00:00</td>\n",
       "      <td>25.67263</td>\n",
       "      <td>31.30886</td>\n",
       "      <td>NaN</td>\n",
       "      <td>NaN</td>\n",
       "    </tr>\n",
       "    <tr>\n",
       "      <td>2019-09-01 12:00:00</td>\n",
       "      <td>43917337</td>\n",
       "      <td>23.75</td>\n",
       "      <td>72.25</td>\n",
       "      <td>2019-09-01 12:00:00</td>\n",
       "      <td>25.96005</td>\n",
       "      <td>30.51650</td>\n",
       "      <td>NaN</td>\n",
       "      <td>NaN</td>\n",
       "    </tr>\n",
       "    <tr>\n",
       "      <td>2019-09-01 13:00:00</td>\n",
       "      <td>43917338</td>\n",
       "      <td>23.75</td>\n",
       "      <td>72.25</td>\n",
       "      <td>2019-09-01 13:00:00</td>\n",
       "      <td>25.97700</td>\n",
       "      <td>30.18636</td>\n",
       "      <td>NaN</td>\n",
       "      <td>NaN</td>\n",
       "    </tr>\n",
       "    <tr>\n",
       "      <td>2019-09-01 19:00:00</td>\n",
       "      <td>43917339</td>\n",
       "      <td>23.75</td>\n",
       "      <td>72.25</td>\n",
       "      <td>2019-09-01 19:00:00</td>\n",
       "      <td>25.34197</td>\n",
       "      <td>27.38284</td>\n",
       "      <td>NaN</td>\n",
       "      <td>NaN</td>\n",
       "    </tr>\n",
       "    <tr>\n",
       "      <td>...</td>\n",
       "      <td>...</td>\n",
       "      <td>...</td>\n",
       "      <td>...</td>\n",
       "      <td>...</td>\n",
       "      <td>...</td>\n",
       "      <td>...</td>\n",
       "      <td>...</td>\n",
       "      <td>...</td>\n",
       "    </tr>\n",
       "    <tr>\n",
       "      <td>2019-11-01 05:00:00</td>\n",
       "      <td>119265575</td>\n",
       "      <td>-90.00</td>\n",
       "      <td>72.75</td>\n",
       "      <td>2019-11-01 05:00:00</td>\n",
       "      <td>NaN</td>\n",
       "      <td>NaN</td>\n",
       "      <td>234.21346</td>\n",
       "      <td>238.25389</td>\n",
       "    </tr>\n",
       "    <tr>\n",
       "      <td>2019-11-01 08:00:00</td>\n",
       "      <td>119265576</td>\n",
       "      <td>-90.00</td>\n",
       "      <td>72.75</td>\n",
       "      <td>2019-11-01 08:00:00</td>\n",
       "      <td>NaN</td>\n",
       "      <td>NaN</td>\n",
       "      <td>234.10092</td>\n",
       "      <td>238.22862</td>\n",
       "    </tr>\n",
       "    <tr>\n",
       "      <td>2019-11-01 12:00:00</td>\n",
       "      <td>119265577</td>\n",
       "      <td>-90.00</td>\n",
       "      <td>72.75</td>\n",
       "      <td>2019-11-01 12:00:00</td>\n",
       "      <td>NaN</td>\n",
       "      <td>NaN</td>\n",
       "      <td>234.47913</td>\n",
       "      <td>238.62624</td>\n",
       "    </tr>\n",
       "    <tr>\n",
       "      <td>2019-11-01 13:00:00</td>\n",
       "      <td>119265578</td>\n",
       "      <td>-90.00</td>\n",
       "      <td>72.75</td>\n",
       "      <td>2019-11-01 13:00:00</td>\n",
       "      <td>NaN</td>\n",
       "      <td>NaN</td>\n",
       "      <td>234.48608</td>\n",
       "      <td>238.63954</td>\n",
       "    </tr>\n",
       "    <tr>\n",
       "      <td>2019-11-01 19:00:00</td>\n",
       "      <td>119265579</td>\n",
       "      <td>-90.00</td>\n",
       "      <td>72.75</td>\n",
       "      <td>2019-11-01 19:00:00</td>\n",
       "      <td>NaN</td>\n",
       "      <td>NaN</td>\n",
       "      <td>234.54526</td>\n",
       "      <td>238.72864</td>\n",
       "    </tr>\n",
       "  </tbody>\n",
       "</table>\n",
       "<p>20520 rows × 8 columns</p>\n",
       "</div>"
      ],
      "text/plain": [
       "                     Unnamed: 0  latitude  longitude                 time  \\\n",
       "time                                                                        \n",
       "2019-09-01 05:00:00    43917335     23.75      72.25  2019-09-01 05:00:00   \n",
       "2019-09-01 08:00:00    43917336     23.75      72.25  2019-09-01 08:00:00   \n",
       "2019-09-01 12:00:00    43917337     23.75      72.25  2019-09-01 12:00:00   \n",
       "2019-09-01 13:00:00    43917338     23.75      72.25  2019-09-01 13:00:00   \n",
       "2019-09-01 19:00:00    43917339     23.75      72.25  2019-09-01 19:00:00   \n",
       "...                         ...       ...        ...                  ...   \n",
       "2019-11-01 05:00:00   119265575    -90.00      72.75  2019-11-01 05:00:00   \n",
       "2019-11-01 08:00:00   119265576    -90.00      72.75  2019-11-01 08:00:00   \n",
       "2019-11-01 12:00:00   119265577    -90.00      72.75  2019-11-01 12:00:00   \n",
       "2019-11-01 13:00:00   119265578    -90.00      72.75  2019-11-01 13:00:00   \n",
       "2019-11-01 19:00:00   119265579    -90.00      72.75  2019-11-01 19:00:00   \n",
       "\n",
       "                     d2m_0001  t2m_0001   d2m_0005   t2m_0005  \n",
       "time                                                           \n",
       "2019-09-01 05:00:00  25.71900  28.91400        NaN        NaN  \n",
       "2019-09-01 08:00:00  25.67263  31.30886        NaN        NaN  \n",
       "2019-09-01 12:00:00  25.96005  30.51650        NaN        NaN  \n",
       "2019-09-01 13:00:00  25.97700  30.18636        NaN        NaN  \n",
       "2019-09-01 19:00:00  25.34197  27.38284        NaN        NaN  \n",
       "...                       ...       ...        ...        ...  \n",
       "2019-11-01 05:00:00       NaN       NaN  234.21346  238.25389  \n",
       "2019-11-01 08:00:00       NaN       NaN  234.10092  238.22862  \n",
       "2019-11-01 12:00:00       NaN       NaN  234.47913  238.62624  \n",
       "2019-11-01 13:00:00       NaN       NaN  234.48608  238.63954  \n",
       "2019-11-01 19:00:00       NaN       NaN  234.54526  238.72864  \n",
       "\n",
       "[20520 rows x 8 columns]"
      ]
     },
     "execution_count": 27,
     "metadata": {},
     "output_type": "execute_result"
    }
   ],
   "source": [
    "tempxr"
   ]
  },
  {
   "cell_type": "code",
   "execution_count": null,
   "metadata": {},
   "outputs": [],
   "source": []
  }
 ],
 "metadata": {
  "kernelspec": {
   "display_name": "Python 3",
   "language": "python",
   "name": "python3"
  },
  "language_info": {
   "codemirror_mode": {
    "name": "ipython",
    "version": 3
   },
   "file_extension": ".py",
   "mimetype": "text/x-python",
   "name": "python",
   "nbconvert_exporter": "python",
   "pygments_lexer": "ipython3",
   "version": "3.6.5"
  }
 },
 "nbformat": 4,
 "nbformat_minor": 2
}
