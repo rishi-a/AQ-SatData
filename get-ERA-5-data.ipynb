{
 "cells": [
  {
   "cell_type": "markdown",
   "metadata": {},
   "source": [
    "##### The code here is taken from Copernicus Climate Change website to get netCDF datafile to retrieve Climate data from *Copernicus Climate Change Server*\n",
    "\n",
    "##### Requirement (Windows with Anaconda VIrtual Environment)  \n",
    "- Create an account here: https://cds.climate.copernicus.eu\n",
    "- Install cdsapi via conda forge\n",
    "- Install netCDF4 via conda forge \n",
    "- Go to the directory: C://Users//Username and create a file name .cdsapirc\n",
    "- Copy the URL and Key form here and paste to the file created above: https://cds.climate.copernicus.eu/api-how-to\n",
    "- Choose the data you need from here: https://cds.climate.copernicus.eu/cdsapp#!/dataset/reanalysis-era5-single-levels-monthly-means?tab=form"
   ]
  },
  {
   "cell_type": "code",
   "execution_count": 10,
   "metadata": {},
   "outputs": [
    {
     "name": "stderr",
     "output_type": "stream",
     "text": [
      "2019-12-20 16:22:37,589 INFO Sending request to https://cds.climate.copernicus.eu/api/v2/resources/reanalysis-era5-single-levels-monthly-means\n",
      "2019-12-20 16:22:39,444 INFO Request is completed\n",
      "2019-12-20 16:22:39,444 INFO Downloading http://136.156.133.41/cache-compute-0013/cache/data1/adaptor.mars.internal-1576838575.9693606-25162-3-e96a2d53-9fd5-45d4-95f1-3f9aa72fffc7.nc to download.nc (47.5M)\n",
      "2019-12-20 16:23:45,324 INFO Download rate 738.9K/s                                                                    \n"
     ]
    },
    {
     "data": {
      "text/plain": [
       "Result(content_length=49845316,content_type=application/x-netcdf,location=http://136.156.133.41/cache-compute-0013/cache/data1/adaptor.mars.internal-1576838575.9693606-25162-3-e96a2d53-9fd5-45d4-95f1-3f9aa72fffc7.nc)"
      ]
     },
     "execution_count": 10,
     "metadata": {},
     "output_type": "execute_result"
    }
   ],
   "source": [
    "import cdsapi\n",
    "\n",
    "c = cdsapi.Client()\n",
    "\n",
    "c.retrieve(\n",
    "    'reanalysis-era5-single-levels-monthly-means',\n",
    "    {\n",
    "        'format': 'netcdf',\n",
    "        'product_type': 'monthly_averaged_reanalysis_by_hour_of_day',\n",
    "        'variable': '2m_temperature',\n",
    "        'year': '2019',\n",
    "        'month': '06',\n",
    "        'time': [\n",
    "            '00:00', '01:00', '02:00',\n",
    "            '03:00', '04:00', '05:00',\n",
    "            '06:00', '07:00', '08:00',\n",
    "            '09:00', '10:00', '11:00',\n",
    "            '12:00', '13:00', '14:00',\n",
    "            '15:00', '16:00', '17:00',\n",
    "            '18:00', '19:00', '20:00',\n",
    "            '21:00', '22:00', '23:00',\n",
    "        ],\n",
    "    },\n",
    "    'download.nc')"
   ]
  },
  {
   "cell_type": "code",
   "execution_count": 19,
   "metadata": {},
   "outputs": [
    {
     "data": {
      "text/plain": [
       "<class 'netCDF4._netCDF4.Dataset'>\n",
       "root group (NETCDF3_64BIT_OFFSET data model, file format NETCDF3):\n",
       "    Conventions: CF-1.6\n",
       "    history: 2019-12-20 10:42:59 GMT by grib_to_netcdf-2.15.0: /opt/ecmwf/eccodes/bin/grib_to_netcdf -o /cache/data1/adaptor.mars.internal-1576838575.9693606-25162-3-e96a2d53-9fd5-45d4-95f1-3f9aa72fffc7.nc /cache/tmp/e96a2d53-9fd5-45d4-95f1-3f9aa72fffc7-adaptor.mars.internal-1576838575.9700694-25162-1-tmp.grib\n",
       "    dimensions(sizes): longitude(1440), latitude(721), time(24)\n",
       "    variables(dimensions): float32 \u001b[4mlongitude\u001b[0m(longitude), float32 \u001b[4mlatitude\u001b[0m(latitude), int32 \u001b[4mtime\u001b[0m(time), int16 \u001b[4mt2m\u001b[0m(time,latitude,longitude)\n",
       "    groups: "
      ]
     },
     "execution_count": 19,
     "metadata": {},
     "output_type": "execute_result"
    }
   ],
   "source": [
    "nc"
   ]
  },
  {
   "cell_type": "code",
   "execution_count": 24,
   "metadata": {},
   "outputs": [],
   "source": [
    "import xarray as xr\n",
    "\n",
    "ds = xr.open_dataset('download.nc')\n",
    "df = ds.to_dataframe()"
   ]
  },
  {
   "cell_type": "code",
   "execution_count": 26,
   "metadata": {},
   "outputs": [
    {
     "data": {
      "text/html": [
       "<div>\n",
       "<style scoped>\n",
       "    .dataframe tbody tr th:only-of-type {\n",
       "        vertical-align: middle;\n",
       "    }\n",
       "\n",
       "    .dataframe tbody tr th {\n",
       "        vertical-align: top;\n",
       "    }\n",
       "\n",
       "    .dataframe thead th {\n",
       "        text-align: right;\n",
       "    }\n",
       "</style>\n",
       "<table border=\"1\" class=\"dataframe\">\n",
       "  <thead>\n",
       "    <tr style=\"text-align: right;\">\n",
       "      <th></th>\n",
       "      <th></th>\n",
       "      <th></th>\n",
       "      <th>t2m</th>\n",
       "    </tr>\n",
       "    <tr>\n",
       "      <th>latitude</th>\n",
       "      <th>longitude</th>\n",
       "      <th>time</th>\n",
       "      <th></th>\n",
       "    </tr>\n",
       "  </thead>\n",
       "  <tbody>\n",
       "    <tr>\n",
       "      <td rowspan=\"5\" valign=\"top\">90.0</td>\n",
       "      <td rowspan=\"5\" valign=\"top\">0.0</td>\n",
       "      <td>2019-06-01 00:00:00</td>\n",
       "      <td>273.676971</td>\n",
       "    </tr>\n",
       "    <tr>\n",
       "      <td>2019-06-01 01:00:00</td>\n",
       "      <td>273.668121</td>\n",
       "    </tr>\n",
       "    <tr>\n",
       "      <td>2019-06-01 02:00:00</td>\n",
       "      <td>273.680511</td>\n",
       "    </tr>\n",
       "    <tr>\n",
       "      <td>2019-06-01 03:00:00</td>\n",
       "      <td>273.689362</td>\n",
       "    </tr>\n",
       "    <tr>\n",
       "      <td>2019-06-01 04:00:00</td>\n",
       "      <td>273.691132</td>\n",
       "    </tr>\n",
       "  </tbody>\n",
       "</table>\n",
       "</div>"
      ],
      "text/plain": [
       "                                               t2m\n",
       "latitude longitude time                           \n",
       "90.0     0.0       2019-06-01 00:00:00  273.676971\n",
       "                   2019-06-01 01:00:00  273.668121\n",
       "                   2019-06-01 02:00:00  273.680511\n",
       "                   2019-06-01 03:00:00  273.689362\n",
       "                   2019-06-01 04:00:00  273.691132"
      ]
     },
     "execution_count": 26,
     "metadata": {},
     "output_type": "execute_result"
    }
   ],
   "source": [
    "df.head()"
   ]
  },
  {
   "cell_type": "code",
   "execution_count": 27,
   "metadata": {},
   "outputs": [],
   "source": [
    "#learn about the dataset here\n",
    "#https://confluence.ecmwf.int/display/CKB/ERA5-Land+data+documentation#ERA5-Landdatadocumentation-Dataformat"
   ]
  }
 ],
 "metadata": {
  "kernelspec": {
   "display_name": "Python 3",
   "language": "python",
   "name": "python3"
  },
  "language_info": {
   "codemirror_mode": {
    "name": "ipython",
    "version": 3
   },
   "file_extension": ".py",
   "mimetype": "text/x-python",
   "name": "python",
   "nbconvert_exporter": "python",
   "pygments_lexer": "ipython3",
   "version": "3.6.5"
  }
 },
 "nbformat": 4,
 "nbformat_minor": 2
}
